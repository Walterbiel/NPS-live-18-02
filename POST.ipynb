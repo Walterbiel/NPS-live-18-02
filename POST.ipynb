{
 "cells": [
  {
   "cell_type": "code",
   "execution_count": 5,
   "metadata": {},
   "outputs": [
    {
     "name": "stdout",
     "output_type": "stream",
     "text": [
      "Dados gerados com sucesso!\n",
      "{'message': '2000 registros inseridos com sucesso no PostgreSQL!'}\n"
     ]
    }
   ],
   "source": [
    "import requests\n",
    "\n",
    "# URL da API\n",
    "url = \"http://127.0.0.1:8080/gerar_dados/\"\n",
    "\n",
    "# Parâmetro num_rows\n",
    "params = {\"num_rows\": 2000}\n",
    "\n",
    "# Enviar a requisição POST\n",
    "response = requests.post(url, params=params)\n",
    "\n",
    "# Verificar a resposta da API\n",
    "if response.status_code == 200:\n",
    "    print(\"Dados gerados com sucesso!\")\n",
    "    print(response.json())  # Exibe o JSON de resposta\n",
    "else:\n",
    "    print(f\"Erro ao gerar dados. Status Code: {response.status_code}\")\n",
    "    print(response.text)\n"
   ]
  }
 ],
 "metadata": {
  "kernelspec": {
   "display_name": ".venv",
   "language": "python",
   "name": "python3"
  },
  "language_info": {
   "codemirror_mode": {
    "name": "ipython",
    "version": 3
   },
   "file_extension": ".py",
   "mimetype": "text/x-python",
   "name": "python",
   "nbconvert_exporter": "python",
   "pygments_lexer": "ipython3",
   "version": "3.11.2"
  }
 },
 "nbformat": 4,
 "nbformat_minor": 2
}
